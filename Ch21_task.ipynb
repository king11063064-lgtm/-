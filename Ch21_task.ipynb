{
 "cells": [
  {
   "cell_type": "markdown",
   "metadata": {},
   "source": [
    "안녕하세요. 수강생 여러분~! Chapter21 ~ 32 수업은 잘 들으셨나요?\n",
    "\n",
    "Chapter21 ~ 32의 수업 내용을 바탕으로 아래 문제를 풀어주시면 됩니다.\n",
    "\n",
    "\n",
    "<br>\n",
    "\n",
    "\n",
    "[**답변 입력 방법**]\n",
    "\n",
    "문제 아래에 있는 코드 입력창에 정답코드를 작성하신 후  __▷ 버튼을 클릭해 코드를 실행__ 해보세요<br>"
   ]
  },
  {
   "cell_type": "markdown",
   "metadata": {},
   "source": [
    "---"
   ]
  },
  {
   "cell_type": "markdown",
   "metadata": {},
   "source": [
    "[문제 1]\n",
    "사용자로부터 이름과 나이를 입력 받아, \"안녕하세요, [이름]님! 당신은 [나이]살입니다.\"라고 출력하는 함수 greet_user를 작성하세요."
   ]
  },
  {
   "cell_type": "markdown",
   "metadata": {},
   "source": [
    "class(greet_user):\n",
    "    def__init__(self, name, age):\n",
    "        self.name = name\n",
    "        self.age = age\n",
    "\n",
    "print(\"\"안녕하세요, \" + name + \"님! 당신은 \" + age + \"살입니다.\"\")"
   ]
  },
  {
   "cell_type": "code",
   "execution_count": null,
   "metadata": {
    "vscode": {
     "languageId": "plaintext"
    }
   },
   "outputs": [],
   "source": []
  },
  {
   "cell_type": "markdown",
   "metadata": {},
   "source": [
    "---"
   ]
  },
  {
   "cell_type": "markdown",
   "metadata": {},
   "source": [
    "[문제 2] 여러 숫자를 입력받아 그 합계를 반환하는 함수 sum_numbers를 작성하세요. 이 때, 가변 매개변수를 사용하세요."
   ]
  },
  {
   "cell_type": "markdown",
   "metadata": {},
   "source": [
    "def sum_numbers(*args):\n",
    "    Args:\n",
    "\n",
    "    Returns:\n",
    "\n",
    "    return sum(args)"
   ]
  },
  {
   "cell_type": "markdown",
   "metadata": {},
   "source": [
    "---"
   ]
  },
  {
   "cell_type": "markdown",
   "metadata": {},
   "source": [
    "[문제 3] 사용자의 이름을 출력하는 함수 print_name을 작성하세요. 만약 이름이 주어지지 않았다면, 기본값으로 \"익명\"을 사용하세요."
   ]
  },
  {
   "cell_type": "markdown",
   "metadata": {},
   "source": [
    "def print_name(name = \"익명\"):\n",
    "    print(f\"이름: {name}\")\n",
    "\n",
    "print_name(\"박경근\")\n",
    "\n",
    "print_name()"
   ]
  },
  {
   "cell_type": "markdown",
   "metadata": {},
   "source": [
    "---"
   ]
  },
  {
   "cell_type": "markdown",
   "metadata": {},
   "source": [
    "[문제 4] 사용자의 이름, 나이, 성별을 출력하는 함수 print_info를 작성하세요. 이 때, 모든 매개변수는 키워드 매개변수로만 받도록 하세요."
   ]
  },
  {
   "cell_type": "markdown",
   "metadata": {},
   "source": [
    "def print_info(*, 이름, 나이, 성별):\n",
    "\n",
    "    print(f\"이름: {이름}\")\n",
    "    print(f\"나이: {나이}\")\n",
    "    print(f\"성별: {성별}\")\n",
    "\n",
    "print_info(이름=\"이름\", 나이 = 26, 성별 = \"남성\")"
   ]
  },
  {
   "cell_type": "markdown",
   "metadata": {},
   "source": [
    "---"
   ]
  },
  {
   "cell_type": "markdown",
   "metadata": {},
   "source": [
    "[문제 5] 두 개의 정수를 받아 합을 반환하는 함수 add를 작성하세요. 매개변수와 반환값에 타입 어노테이션을 추가하세요."
   ]
  },
  {
   "cell_type": "markdown",
   "metadata": {},
   "source": [
    "def add(x : int, y : int) -> int:\n",
    "    return x + y\n",
    "\n",
    "result = add(1, 2)\n",
    "print(f\"x와 y의 합: {result}\")"
   ]
  },
  {
   "cell_type": "markdown",
   "metadata": {},
   "source": [
    "---"
   ]
  },
  {
   "cell_type": "markdown",
   "metadata": {},
   "source": [
    "[문제 6] 0부터 시작하여 n까지의 숫자 중에서 홀수만 생성하는 제너레이터 odd_numbers를 작성하세요."
   ]
  },
  {
   "cell_type": "markdown",
   "metadata": {},
   "source": [
    "def odd_numbers(n: int):\n",
    "    for number in range(n + 1):\n",
    "        if number % 2 != 0:\n",
    "            yield number"
   ]
  },
  {
   "cell_type": "markdown",
   "metadata": {},
   "source": [
    "---"
   ]
  },
  {
   "cell_type": "markdown",
   "metadata": {},
   "source": [
    "[문제 7] 두 숫자를 더하는 람다 함수를 작성하고, 이를 변수에 할당한 후 사용하세요."
   ]
  },
  {
   "cell_type": "markdown",
   "metadata": {},
   "source": [
    "add = lamda x, y: x + y\n",
    "result = add(5, 3)"
   ]
  },
  {
   "cell_type": "markdown",
   "metadata": {},
   "source": [
    "---"
   ]
  },
  {
   "cell_type": "markdown",
   "metadata": {},
   "source": [
    "[문제 8] 사용자로부터 3개의 숫자를 입력받아, 이를 튜플로 만든 후 최소값과 최대값을 출력하는 함수 min_max를 작성하세요."
   ]
  },
  {
   "cell_type": "markdown",
   "metadata": {},
   "source": [
    "def min_max()\n",
    "    try:\n",
    "        num1 = (input(\"첫 번째 숫자를 답하라: \"))\n",
    "        num2 = (input(\"두 번째 숫자를 답하라: \"))\n",
    "        num3 = (input(\"세 번째 숫자를 답하라: \"))\n",
    "\n",
    "        numbers = (num1, num2, num3)\n",
    "\n",
    "        print(\"\\n입력된 숫자 튜플:\", numbers)\n",
    "        print(f\"최솟값: {min_value}\")\n",
    "        print(f\"최댓값: {max_value}\")\n",
    "\n",
    "min_max()"
   ]
  },
  {
   "cell_type": "markdown",
   "metadata": {},
   "source": [
    "---"
   ]
  },
  {
   "cell_type": "markdown",
   "metadata": {},
   "source": [
    "[문제 9] 주어진 숫자가 짝수인지 확인하는 함수 is_even을 작성하세요. 짝수라면 True를, 아니라면 False를 반환하세요. 함수 내에서 조기 리턴을 활용하세요."
   ]
  },
  {
   "cell_type": "markdown",
   "metadata": {},
   "source": [
    "def is_even(number: int) -> bool:\n",
    "    if number % 2 == 0:\n",
    "        return True\n",
    "    else:\n",
    "        return False"
   ]
  },
  {
   "cell_type": "markdown",
   "metadata": {},
   "source": [
    "---"
   ]
  },
  {
   "cell_type": "markdown",
   "metadata": {},
   "source": [
    "[문제 10] 팩토리얼을 계산하는 재귀 함수 factorial을 작성하세요."
   ]
  },
  {
   "cell_type": "markdown",
   "metadata": {},
   "source": [
    "def factorial(n: int) -> int:\n",
    "    if n == 0:\n",
    "        return 1\n",
    "    else:\n",
    "        return n * factorial(n - 1)"
   ]
  },
  {
   "cell_type": "markdown",
   "metadata": {},
   "source": [
    "---"
   ]
  },
  {
   "cell_type": "markdown",
   "metadata": {},
   "source": [
    "[문제 11] 문자열 리스트를 받아, 각 문자열의 길이를 출력하는 함수 print_lengths를 작성하세요."
   ]
  },
  {
   "cell_type": "markdown",
   "metadata": {},
   "source": [
    "def print_lengths(string_list: list[str]):\n",
    "    for s in string_list:\n",
    "        print(f\"'{s}의 길이: {len(s)}\")"
   ]
  },
  {
   "cell_type": "markdown",
   "metadata": {},
   "source": [
    "---"
   ]
  },
  {
   "cell_type": "markdown",
   "metadata": {},
   "source": [
    "[문제 12] 두 문자열을 받아서 긴 문자열을 반환하는 함수 longer_string을 작성하세요. 만약 두 문자열의 길이가 같다면, 첫 번째 문자열을 반환하세요."
   ]
  },
  {
   "cell_type": "markdown",
   "metadata": {},
   "source": [
    "def longer_string(str1: str, str2: str) -> str:\n",
    "    if len(str1) >= len(str2):\n",
    "        return str1\n",
    "    else:\n",
    "        return str2"
   ]
  },
  {
   "cell_type": "code",
   "execution_count": null,
   "metadata": {
    "vscode": {
     "languageId": "plaintext"
    }
   },
   "outputs": [],
   "source": []
  }
 ],
 "metadata": {
  "language_info": {
   "name": "python"
  }
 },
 "nbformat": 4,
 "nbformat_minor": 2
}
